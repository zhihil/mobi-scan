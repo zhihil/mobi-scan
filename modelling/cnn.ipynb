{
  "nbformat": 4,
  "nbformat_minor": 0,
  "metadata": {
    "language_info": {
      "codemirror_mode": {
        "name": "ipython",
        "version": 3
      },
      "file_extension": ".py",
      "mimetype": "text/x-python",
      "name": "python",
      "nbconvert_exporter": "python",
      "pygments_lexer": "ipython3",
      "version": "3.7.6-final"
    },
    "orig_nbformat": 2,
    "kernelspec": {
      "name": "python3",
      "display_name": "Python 3.7.6 64-bit ('venv')",
      "metadata": {
        "interpreter": {
          "hash": "6dd54db9ff4fcd858551d7adb4af8f7a32b9f15f3b12ff5060530dd1e79cb61d"
        }
      }
    },
    "colab": {
      "name": "cnn.ipynb",
      "provenance": [],
      "collapsed_sections": []
    }
  },
  "cells": [
    {
      "cell_type": "code",
      "metadata": {
        "id": "wdwvXkoy2cD_"
      },
      "source": [
        "import tensorflow as tf\n",
        "from tensorflow.keras import datasets, layers, models\n",
        "import matplotlib.pyplot as plt"
      ],
      "execution_count": null,
      "outputs": []
    },
    {
      "cell_type": "code",
      "metadata": {
        "colab": {
          "base_uri": "https://localhost:8080/"
        },
        "id": "LdikPo3c2cEJ",
        "outputId": "635c445d-eebb-4fae-a969-6add8043e675"
      },
      "source": [
        "(train_data, train_labels), (test_data, test_labels) = datasets.cifar10.load_data()"
      ],
      "execution_count": null,
      "outputs": [
        {
          "output_type": "stream",
          "text": [
            "Downloading data from https://www.cs.toronto.edu/~kriz/cifar-10-python.tar.gz\n",
            "170500096/170498071 [==============================] - 2s 0us/step\n"
          ],
          "name": "stdout"
        }
      ]
    },
    {
      "cell_type": "code",
      "metadata": {
        "id": "-SqKOu122cEL"
      },
      "source": [
        "norm_train_data, norm_test_data = train_data / 255.0, test_data / 255.0"
      ],
      "execution_count": null,
      "outputs": []
    },
    {
      "cell_type": "code",
      "metadata": {
        "id": "5fSAIQoe2cEL"
      },
      "source": [
        "base = models.Sequential([\n",
        "  layers.Conv2D(32, (3, 3), activation='relu', input_shape=(32, 32, 3)),\n",
        "  layers.MaxPooling2D((2, 2)),\n",
        "  layers.Conv2D(64, (3, 3), activation='relu'),\n",
        "  layers.MaxPooling2D((2, 2)),\n",
        "  layers.Conv2D(64, (3, 3), activation='relu')\n",
        "])"
      ],
      "execution_count": null,
      "outputs": []
    },
    {
      "cell_type": "code",
      "metadata": {
        "id": "rdMWVZud3WX-"
      },
      "source": [
        "head = models.Sequential([\n",
        "  layers.Flatten(),\n",
        "  layers.Dense(64, activation='relu'),\n",
        "  layers.Dense(10)\n",
        "])"
      ],
      "execution_count": null,
      "outputs": []
    },
    {
      "cell_type": "code",
      "metadata": {
        "id": "X9Z2exMV3eYt"
      },
      "source": [
        "model = models.Sequential([\n",
        "  base,\n",
        "  head\n",
        "])"
      ],
      "execution_count": null,
      "outputs": []
    },
    {
      "cell_type": "code",
      "metadata": {
        "colab": {
          "base_uri": "https://localhost:8080/"
        },
        "id": "QY3g1nae3lTA",
        "outputId": "1b3624fd-3e6f-43ed-971e-79c2dba6dd88"
      },
      "source": [
        "model.compile(optimizer='adam',\n",
        "              loss=tf.keras.losses.SparseCategoricalCrossentropy(from_logits=True),\n",
        "              metrics=['accuracy'])\n",
        "\n",
        "history = model.fit(norm_train_data, train_labels, epochs=10,\n",
        "                    validation_data=(norm_test_data, test_labels))"
      ],
      "execution_count": null,
      "outputs": [
        {
          "output_type": "stream",
          "text": [
            "Epoch 1/10\n",
            "1563/1563 [==============================] - 78s 49ms/step - loss: 1.7535 - accuracy: 0.3495 - val_loss: 1.2326 - val_accuracy: 0.5595\n",
            "Epoch 2/10\n",
            "1563/1563 [==============================] - 77s 49ms/step - loss: 1.1876 - accuracy: 0.5789 - val_loss: 1.0944 - val_accuracy: 0.6172\n",
            "Epoch 3/10\n",
            "1563/1563 [==============================] - 77s 49ms/step - loss: 1.0291 - accuracy: 0.6384 - val_loss: 1.0094 - val_accuracy: 0.6387\n",
            "Epoch 4/10\n",
            "1563/1563 [==============================] - 76s 49ms/step - loss: 0.9284 - accuracy: 0.6721 - val_loss: 0.9895 - val_accuracy: 0.6500\n",
            "Epoch 5/10\n",
            "1563/1563 [==============================] - 78s 50ms/step - loss: 0.8467 - accuracy: 0.7009 - val_loss: 0.8962 - val_accuracy: 0.6868\n",
            "Epoch 6/10\n",
            "1563/1563 [==============================] - 77s 49ms/step - loss: 0.7922 - accuracy: 0.7212 - val_loss: 0.8704 - val_accuracy: 0.6993\n",
            "Epoch 7/10\n",
            "1563/1563 [==============================] - 75s 48ms/step - loss: 0.7353 - accuracy: 0.7408 - val_loss: 0.8694 - val_accuracy: 0.6994\n",
            "Epoch 8/10\n",
            "1563/1563 [==============================] - 76s 49ms/step - loss: 0.6968 - accuracy: 0.7573 - val_loss: 0.9207 - val_accuracy: 0.6939\n",
            "Epoch 9/10\n",
            "1563/1563 [==============================] - 76s 48ms/step - loss: 0.6618 - accuracy: 0.7688 - val_loss: 0.9206 - val_accuracy: 0.6873\n",
            "Epoch 10/10\n",
            "1563/1563 [==============================] - 77s 49ms/step - loss: 0.6200 - accuracy: 0.7838 - val_loss: 0.8622 - val_accuracy: 0.7062\n"
          ],
          "name": "stdout"
        }
      ]
    },
    {
      "cell_type": "code",
      "metadata": {
        "colab": {
          "base_uri": "https://localhost:8080/",
          "height": 283
        },
        "id": "tq_cjz7C4FOM",
        "outputId": "37036235-2fd1-4eae-e1c2-b926cfde1059"
      },
      "source": [
        "plt.plot(history.history['accuracy'], label='accuracy')\n",
        "plt.plot(history.history['val_accuracy'], label='val_accuracy')\n",
        "plt.xlabel('Epochs')\n",
        "plt.ylabel('Accuracy')\n",
        "plt.ylim([0.5, 1.0])\n",
        "plt.legend(loc='lower right')\n",
        "plt.show()"
      ],
      "execution_count": null,
      "outputs": [
        {
          "output_type": "display_data",
          "data": {
            "image/png": "[encoded data removed]",
            "text/plain": [
              "<Figure size 432x288 with 1 Axes>"
            ]
          },
          "metadata": {
            "tags": [],
            "needs_background": "light"
          }
        }
      ]
    },
    {
      "cell_type": "code",
      "metadata": {
        "colab": {
          "base_uri": "https://localhost:8080/"
        },
        "id": "fBVl2-yS4STI",
        "outputId": "ff5571de-fa0b-4fbe-ce1e-005902977027"
      },
      "source": [
        "test_loss, test_accuracy = model.evaluate(norm_test_data, test_labels, verbose=2)\n",
        "print(f\"The test loss is: {test_loss}\")\n",
        "print(f\"The test accuracy is: {test_accuracy}\")"
      ],
      "execution_count": null,
      "outputs": [
        {
          "output_type": "stream",
          "text": [
            "313/313 - 4s - loss: 0.8622 - accuracy: 0.7062\n",
            "The test loss is: 0.8621551990509033\n",
            "The test accuracy is: 0.7062000036239624\n"
          ],
          "name": "stdout"
        }
      ]
    },
    {
      "cell_type": "code",
      "metadata": {
        "colab": {
          "base_uri": "https://localhost:8080/"
        },
        "id": "NvBtosMj4dd5",
        "outputId": "fb2ec2e5-d691-4811-ee11-9734f8ca7826"
      },
      "source": [
        "model.save(\"cnn.hd5\")"
      ],
      "execution_count": null,
      "outputs": [
        {
          "output_type": "stream",
          "text": [
            "INFO:tensorflow:Assets written to: cnn.hd5/assets\n"
          ],
          "name": "stdout"
        }
      ]
    },
    {
      "cell_type": "code",
      "metadata": {
        "colab": {
          "base_uri": "https://localhost:8080/",
          "height": 17
        },
        "id": "BoJBy_OZbn3I",
        "outputId": "0e0001c3-4137-4fb8-8bd9-5f5c53b34862"
      },
      "source": [
        "from google.colab import files\n",
        "files.download(\"cnn.hd5\")"
      ],
      "execution_count": null,
      "outputs": [
        {
          "output_type": "display_data",
          "data": {
            "application/javascript": [
              "\n",
              "    async function download(id, filename, size) {\n",
              "      if (!google.colab.kernel.accessAllowed) {\n",
              "        return;\n",
              "      }\n",
              "      const div = document.createElement('div');\n",
              "      const label = document.createElement('label');\n",
              "      label.textContent = `Downloading \"${filename}\": `;\n",
              "      div.appendChild(label);\n",
              "      const progress = document.createElement('progress');\n",
              "      progress.max = size;\n",
              "      div.appendChild(progress);\n",
              "      document.body.appendChild(div);\n",
              "\n",
              "      const buffers = [];\n",
              "      let downloaded = 0;\n",
              "\n",
              "      const channel = await google.colab.kernel.comms.open(id);\n",
              "      // Send a message to notify the kernel that we're ready.\n",
              "      channel.send({})\n",
              "\n",
              "      for await (const message of channel.messages) {\n",
              "        // Send a message to notify the kernel that we're ready.\n",
              "        channel.send({})\n",
              "        if (message.buffers) {\n",
              "          for (const buffer of message.buffers) {\n",
              "            buffers.push(buffer);\n",
              "            downloaded += buffer.byteLength;\n",
              "            progress.value = downloaded;\n",
              "          }\n",
              "        }\n",
              "      }\n",
              "      const blob = new Blob(buffers, {type: 'application/binary'});\n",
              "      const a = document.createElement('a');\n",
              "      a.href = window.URL.createObjectURL(blob);\n",
              "      a.download = filename;\n",
              "      div.appendChild(a);\n",
              "      a.click();\n",
              "      div.remove();\n",
              "    }\n",
              "  "
            ],
            "text/plain": [
              "<IPython.core.display.Javascript object>"
            ]
          },
          "metadata": {
            "tags": []
          }
        },
        {
          "output_type": "display_data",
          "data": {
            "application/javascript": [
              "download(\"download_50ec94f9-652b-452c-b7f0-68fa40394233\", \"cnn.hd5\", 4096)"
            ],
            "text/plain": [
              "<IPython.core.display.Javascript object>"
            ]
          },
          "metadata": {
            "tags": []
          }
        }
      ]
    },
    {
      "cell_type": "code",
      "metadata": {
        "id": "WRQQeSopbrbR"
      },
      "source": [
        ""
      ],
      "execution_count": null,
      "outputs": []
    }
  ]
}